{
 "cells": [
  {
   "cell_type": "code",
   "execution_count": 1,
   "id": "2edf9b01",
   "metadata": {},
   "outputs": [],
   "source": [
    "import pandas as pd\n",
    "import matplotlib.pyplot as plt\n",
    "import os"
   ]
  },
  {
   "cell_type": "code",
   "execution_count": 2,
   "id": "3c1891a2",
   "metadata": {},
   "outputs": [],
   "source": [
    "os.makedirs(\"../plots/channel_kpis\", exist_ok=True)\n",
    "df = pd.read_csv(\"../data/cleaned_superstore.csv\")"
   ]
  },
  {
   "cell_type": "code",
   "execution_count": 3,
   "id": "12c64a30",
   "metadata": {},
   "outputs": [],
   "source": [
    "kpis = {\"KPI\": [], \"Value\": []}"
   ]
  },
  {
   "cell_type": "code",
   "execution_count": null,
   "id": "b8249846",
   "metadata": {},
   "outputs": [],
   "source": [
    "# Avg Web Purchases\n",
    "avg_web = df[\"NumWebPurchases\"].mean()\n",
    "\n",
    "kpis[\"KPI\"].append(\"Avg Web Purchases\")\n",
    "kpis[\"Value\"].append(round(avg_web, 2))"
   ]
  },
  {
   "cell_type": "code",
   "execution_count": null,
   "id": "e9f99909",
   "metadata": {},
   "outputs": [],
   "source": [
    "# Avg Catalog Purchases\n",
    "avg_cat = df[\"NumCatalogPurchases\"].mean()\n",
    "\n",
    "kpis[\"KPI\"].append(\"Avg Catalog Purchases\")\n",
    "kpis[\"Value\"].append(round(avg_cat, 2))"
   ]
  },
  {
   "cell_type": "code",
   "execution_count": null,
   "id": "ca4b4f7b",
   "metadata": {},
   "outputs": [],
   "source": [
    "# Avg Store Purchases\n",
    "avg_store = df[\"NumStorePurchases\"].mean()\n",
    "\n",
    "kpis[\"KPI\"].append(\"Avg Store Purchases\")\n",
    "kpis[\"Value\"].append(round(avg_store, 2))"
   ]
  },
  {
   "cell_type": "code",
   "execution_count": null,
   "id": "60458678",
   "metadata": {},
   "outputs": [],
   "source": [
    "# Web Visits per Month\n",
    "avg_visits = df[\"NumWebVisitsMonth\"].mean()\n",
    "\n",
    "kpis[\"KPI\"].append(\"Avg Web Visits per Month\")\n",
    "kpis[\"Value\"].append(round(avg_visits, 2))"
   ]
  },
  {
   "cell_type": "code",
   "execution_count": 7,
   "id": "ccff0c2a",
   "metadata": {},
   "outputs": [
    {
     "data": {
      "image/png": "[encoded data removed]",
      "text/plain": [
       "<Figure size 600x400 with 1 Axes>"
      ]
     },
     "metadata": {},
     "output_type": "display_data"
    }
   ],
   "source": [
    "def channel_pref(row):\n",
    "    purchases = {\n",
    "        \"Web\": row[\"NumWebPurchases\"],\n",
    "        \"Catalog\": row[\"NumCatalogPurchases\"],\n",
    "        \"Store\": row[\"NumStorePurchases\"]\n",
    "    }\n",
    "    return max(purchases, key=purchases.get)\n",
    "\n",
    "df[\"Preferred_Channel\"] = df.apply(channel_pref, axis=1)\n",
    "\n",
    "channel_dist = df[\"Preferred_Channel\"].value_counts(normalize=True) * 100\n",
    "\n",
    "kpis[\"KPI\"].append(\"Purchase Channel Preference\")\n",
    "kpis[\"Value\"].append(\"; \".join([f\"{k}: {v:.2f}%\" for k, v in channel_dist.items()]))\n",
    "\n",
    "plt.figure(figsize=(6, 4))\n",
    "channel_dist.plot(kind=\"bar\", title=\"Preferred Purchase Channel\")\n",
    "plt.ylabel(\"% of Customers\")\n",
    "plt.tight_layout()\n",
    "plt.savefig(\"../plots/channel_kpis/preferred_channel.png\")\n",
    "plt.show()"
   ]
  },
  {
   "cell_type": "code",
   "execution_count": 8,
   "id": "0283d81f",
   "metadata": {},
   "outputs": [],
   "source": [
    "pd.DataFrame(kpis).to_csv(\"../exports/channel_kpis_summary.csv\", index=False)"
   ]
  }
 ],
 "metadata": {
  "kernelspec": {
   "display_name": "Python (dpenv)",
   "language": "python",
   "name": "dpenv"
  },
  "language_info": {
   "codemirror_mode": {
    "name": "ipython",
    "version": 3
   },
   "file_extension": ".py",
   "mimetype": "text/x-python",
   "name": "python",
   "nbconvert_exporter": "python",
   "pygments_lexer": "ipython3",
   "version": "3.10.13"
  }
 },
 "nbformat": 4,
 "nbformat_minor": 5
}
