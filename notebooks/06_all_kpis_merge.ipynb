{
 "cells": [
  {
   "cell_type": "code",
   "execution_count": 1,
   "id": "489a57f7",
   "metadata": {},
   "outputs": [],
   "source": [
    "import pandas as pd\n",
    "import os"
   ]
  },
  {
   "cell_type": "code",
   "execution_count": 2,
   "id": "2294a7a6",
   "metadata": {},
   "outputs": [],
   "source": [
    "kpi_paths = {\n",
    "    \"Customer\": \"../exports/customer_kpis_summary.csv\",\n",
    "    \"Sales\": \"../exports/sales_kpis_summary.csv\",\n",
    "    \"Channel\": \"../exports/channel_kpis_summary.csv\",\n",
    "    \"Campaign\": \"../exports/campaign_kpis_summary.csv\",\n",
    "    \"Behavior_RFM\": \"../exports/behavior_rfm_kpis_summary.csv\"\n",
    "}"
   ]
  },
  {
   "cell_type": "code",
   "execution_count": 3,
   "id": "7c6568f3",
   "metadata": {},
   "outputs": [],
   "source": [
    "kpi_frames = []\n",
    "for category, path in kpi_paths.items():\n",
    "    df = pd.read_csv(path)\n",
    "    df[\"KPI_Category\"] = category\n",
    "    kpi_frames.append(df)"
   ]
  },
  {
   "cell_type": "code",
   "execution_count": 4,
   "id": "855d1a58",
   "metadata": {},
   "outputs": [],
   "source": [
    "all_kpis = pd.concat(kpi_frames, ignore_index=True)"
   ]
  },
  {
   "cell_type": "code",
   "execution_count": 5,
   "id": "4df6d81f",
   "metadata": {},
   "outputs": [],
   "source": [
    "all_kpis.to_csv(\"../exports/all_kpis_summary.csv\", index=False)"
   ]
  },
  {
   "cell_type": "code",
   "execution_count": null,
   "id": "c5e02d48",
   "metadata": {},
   "outputs": [],
   "source": []
  }
 ],
 "metadata": {
  "kernelspec": {
   "display_name": "Python (dpenv)",
   "language": "python",
   "name": "dpenv"
  },
  "language_info": {
   "codemirror_mode": {
    "name": "ipython",
    "version": 3
   },
   "file_extension": ".py",
   "mimetype": "text/x-python",
   "name": "python",
   "nbconvert_exporter": "python",
   "pygments_lexer": "ipython3",
   "version": "3.10.13"
  }
 },
 "nbformat": 4,
 "nbformat_minor": 5
}
